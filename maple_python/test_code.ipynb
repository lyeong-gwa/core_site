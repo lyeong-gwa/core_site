{
 "cells": [
  {
   "cell_type": "code",
   "execution_count": 185,
   "source": [
    "import cv2  \r\n",
    "import numpy as np  \r\n",
    "import pandas as pd\r\n",
    "from PIL import Image\r\n",
    "import matplotlib.pyplot as plt\r\n",
    "import os\r\n",
    "import io\r\n",
    "import base64\r\n",
    "from pandas import Series\r\n",
    "from itertools import product\r\n",
    "from itertools import combinations\r\n",
    "import itertools\r\n",
    "import json\r\n",
    "from collections import OrderedDict\r\n",
    "from numpyencoder import NumpyEncoder\r\n",
    "from skimage.metrics import structural_similarity as ssim\r\n",
    "pd.set_option('display.max_row', 500)\r\n",
    "pd.set_option('display.max_columns', 100)\r\n",
    "#page_image, x, y, skill_image\r\n",
    "\r\n",
    "\r\n",
    "\r\n",
    "class page:\r\n",
    "    def __init__(self,page_image):\r\n",
    "        self.page_image=page_image\r\n",
    "\r\n",
    "        \r\n",
    "        \r\n",
    "        \r\n",
    "        \r\n",
    "        \r\n",
    "        \r\n",
    "        \r\n",
    "\r\n",
    "def search_image(base,template_arr,thr=0.9): #pil형 이미지 두개 input base이미지에 template 이미지가 있다면 true\r\n",
    "        imgray = cv2.cvtColor(np.array(base),cv2.COLOR_BGR2GRAY)\r\n",
    "        return_value=-1\r\n",
    "        for temp in template_arr:\r\n",
    "            template=cv2.cvtColor(np.array(temp),cv2.COLOR_BGR2GRAY)\r\n",
    "            w,h = template.shape[::-1]\r\n",
    "            res=cv2.matchTemplate(imgray,template,cv2.TM_CCOEFF_NORMED)\r\n",
    "            loc = np.where(res>=thr)\r\n",
    "            if len(loc[0])==1:\r\n",
    "                return_value=template_arr.index(temp)\r\n",
    "                break\r\n",
    "        return return_value        \r\n",
    "        \r\n",
    "def skill_check(base,template_arr): #pil형 이미지 두개 input base이미지에 template 이미지가 있다면 true\r\n",
    "        imgray = cv2.cvtColor(np.array(base.crop((10,3,30,13))),cv2.COLOR_BGR2GRAY)\r\n",
    "        focus=0\r\n",
    "        focus_simm=0\r\n",
    "        count=0\r\n",
    "        sim_arr=[]\r\n",
    "        for temp in template_arr:\r\n",
    "            template=cv2.cvtColor(np.array(temp),cv2.COLOR_BGR2GRAY)\r\n",
    "            sim=ssim(imgray,template)\r\n",
    "            sim_arr.append(round(sim,4))\r\n",
    "            if sim>focus_simm:\r\n",
    "                focus=count\r\n",
    "                focus_simm=sim\r\n",
    "            count=count+1\r\n",
    "        return focus,sim_arr\r\n",
    "        \r\n",
    "        \r\n",
    "        \r\n",
    "        \r\n",
    "        \r\n",
    "\r\n",
    "def Matching(base_page,target_image='zero_target.png',thr=0.9): #페이지 1차가공 page배열에 강화코어 좌표를 붙여서 리턴\r\n",
    "    array_return=[]\r\n",
    "    count=0\r\n",
    "    template = cv2.imread(target_image,cv2.IMREAD_GRAYSCALE)\r\n",
    "    font_count=0\r\n",
    "    for i_base in base_page:\r\n",
    "        imgray = cv2.cvtColor(np.array(i_base.page_image),cv2.COLOR_BGR2GRAY)\r\n",
    "        w,h = template.shape[::-1]\r\n",
    "        \r\n",
    "        res=cv2.matchTemplate(imgray,template,cv2.TM_CCOEFF_NORMED)\r\n",
    "        loc = np.where(res>=thr)\r\n",
    "        \r\n",
    "        base= cv2.imread(i_base.page_image.filename)\r\n",
    "        for pt in zip(*loc[::-1]):\r\n",
    "            #cv2.rectangle(base,pt,(pt[0]+w,pt[1]+h),(0,0,255),2)\r\n",
    "            cv2.putText(base, str(font_count), pt, cv2.FONT_HERSHEY_DUPLEX, 1,(0,0,155), 2, cv2.LINE_AA)\r\n",
    "            font_count=font_count+1\r\n",
    "        \r\n",
    "        x_min=min(loc[::-1][0])\r\n",
    "        x_max=max(loc[::-1][0])\r\n",
    "        y_min=min(loc[::-1][1])\r\n",
    "        y_max=max(loc[::-1][1])\r\n",
    "        #i_base.user_page_image=Image.fromarray(base[x_min-110:x_max-x_min+220,y_min-110:y_max-y_min+220])\r\n",
    "        print(x_min-110,x_max-x_min+220,y_min-110,y_max-y_min+220)\r\n",
    "        print(x_min,x_max,y_min,y_max)\r\n",
    "        i_base.user_page_image=Image.fromarray(base)\r\n",
    "        #cv2.imwrite('result_image/result{}.png'.format(count), base)\r\n",
    "        base_page[count].x=loc[1]\r\n",
    "        base_page[count].y=loc[0]\r\n",
    "        count=count+1    \r\n",
    "    return base_page\r\n",
    "\r\n",
    "\r\n",
    "\r\n",
    "\r\n",
    "\r\n",
    "\r\n",
    "\r\n",
    "\r\n",
    "\r\n",
    "\r\n",
    "\r\n",
    "def Skill_cutting(page_arr):#page_arr에 스킬이미지 정보드 붙임\r\n",
    "    count=0\r\n",
    "    for page in page_arr:\r\n",
    "        img_return=[]\r\n",
    "        for x,y in zip(page.x,page.y):\r\n",
    "            img_return.append(page.page_image.crop((x-10,y-6,x+30,y+44)))\r\n",
    "        page_arr[count].skill_image=img_return\r\n",
    "        count=count+1\r\n",
    "    return page_arr\r\n",
    "\r\n",
    "\r\n",
    "\r\n",
    "\r\n",
    "def skill_classification(job,page_arr): # 'adel', page배열넣기\r\n",
    "    left_name = os.listdir(job+\"/left/\")\r\n",
    "    right_name = os.listdir(job+\"/right/\")\r\n",
    "    top_name = os.listdir(job+\"/top/\")\r\n",
    "    level_map = os.listdir(\"level/\")\r\n",
    "    left_image=[]\r\n",
    "    right_image=[]\r\n",
    "    top_image=[]\r\n",
    "    level_image=[]\r\n",
    "    for i,j,k in zip(left_name,right_name,top_name):\r\n",
    "        left_image.append(Image.open(job+\"/left/\"+i))\r\n",
    "        right_image.append(Image.open(job+\"/right/\"+j))\r\n",
    "        top_image.append(Image.open(job+\"/top/\"+k))\r\n",
    "    \r\n",
    "    for i in level_map:\r\n",
    "        level_image.append(Image.open(\"level/\"+i))\r\n",
    "\r\n",
    "    page_count=0\r\n",
    "    for page in page_arr:\r\n",
    "        page.skill_kinds=len(os.listdir(job+\"/left/\"))\r\n",
    "        page_arr[page_count].skill_arr=[]\r\n",
    "        for skill in page.skill_image:\r\n",
    "            tmp=[]\r\n",
    "            tmp.append(search_image(skill,left_image))\r\n",
    "            tmp.append(search_image(skill,top_image))\r\n",
    "            tmp.append(search_image(skill,right_image))\r\n",
    "            page_arr[page_count].skill_arr.append(tmp)\r\n",
    "        \r\n",
    "        fd=open(\"df_level.txt\",\"a\")\r\n",
    "\r\n",
    "        #코어레벨 측정하는 공간!\r\n",
    "        page_arr[page_count].skill_level=[]\r\n",
    "        for skill in page.skill_image:\r\n",
    "            page_arr[page_count].skill_level.append(search_image(skill,level_image,0.99)+1)\r\n",
    "            index,index_arr=skill_check(skill,level_image)\r\n",
    "            fd.write(str(index_arr)+\",\\n\")\r\n",
    "        fd.close()\r\n",
    "        page_count=page_count+1\r\n",
    "\r\n",
    "\r\n",
    "\r\n",
    "def MakeDF(paged):#중복제외한 강화코어 출력\r\n",
    "    df = pd.DataFrame(columns=range(paged[0].skill_kinds+3))\r\n",
    "    count=0\r\n",
    "    for page in paged:\r\n",
    "        skill_count=0\r\n",
    "        for skill_label in page.skill_arr:\r\n",
    "            tmp=np.zeros(page.skill_kinds+3,dtype=np.int32)\r\n",
    "            tmp[skill_label[0]]=1\r\n",
    "            tmp[skill_label[1]]=1\r\n",
    "            tmp[skill_label[2]]=1\r\n",
    "            tmp[-1]=count\r\n",
    "            tmp[-2]=skill_label[0]\r\n",
    "            tmp[-3]=page.skill_level[skill_count]\r\n",
    "            skill_count=skill_count+1\r\n",
    "            df.loc[len(df)] = tmp\r\n",
    "            count=count+1\r\n",
    "\r\n",
    "    s= df.iloc[:,-3]=df.iloc[:,-3].replace(Series(data=[1,3,4,6,8,10,13,15,19,22,26,30,34,                                              \r\n",
    "                                                        39,44,49,55,61,67,74,80,88,95,103,111], index=range(1,26)))\r\n",
    "    df.iloc[:,-3]=df.iloc[:,-2].replace(df.groupby(df.iloc[:,-2]).sum().iloc[:,0])\r\n",
    "    df=df.drop(df[df.iloc[:,-2]==-1].index)\r\n",
    "    df=change_down_level(df)\r\n",
    "    s= df.iloc[:,-3]=df.iloc[:,-3].replace(Series(data=range(1,26), index=[1,3,4,6,8,10,13,15,19,22,26,30,34,                                              \r\n",
    "                                                        39,44,49,55,61,67,74,80,88,95,103,111]))\r\n",
    "    df=df.drop_duplicates(range(paged[0].skill_kinds-1),keep='first')\r\n",
    "    df=df.reset_index()\r\n",
    "    df=df.drop(\"index\", axis=1)\r\n",
    "    return df\r\n",
    "\r\n",
    "def change_down_level(df):\r\n",
    "    tmp=df.iloc[:,-3]\r\n",
    "    tmpp=[]\r\n",
    "    count_arr=[1,3,4,6,8,10,13,15,19,22,26,30,34,39,44,49,55,61,67,74,80,88,95,103,111]\r\n",
    "    count_arr= sorted(count_arr,reverse=True)\r\n",
    "    for i in tmp:\r\n",
    "        for j in count_arr:\r\n",
    "            if min(i,j)==i and i!=j:\r\n",
    "                continue\r\n",
    "            else :\r\n",
    "                tmpp.append(j)\r\n",
    "                break\r\n",
    "    df.iloc[:,-3]=tmpp\r\n",
    "    return df\r\n",
    "    \r\n",
    "def Make_skill_list(df):\r\n",
    "    core_arr=[]\r\n",
    "    for i in np.unique(df.iloc[:,-2].values):\r\n",
    "        a=list(np.array(df[df.iloc[:,-2]==i].iloc[:,-1]))\r\n",
    "        if len(a)!=0:\r\n",
    "            core_arr.append(a)\r\n",
    "    return core_arr\r\n",
    "    \r\n",
    "\r\n",
    "    \r\n",
    "def Make_combination(df,digit):\r\n",
    "    core_arr=Make_skill_list(df)\r\n",
    "    qu=[]\r\n",
    "    for i in list(combinations(np.array(range(len(core_arr))),min(digit,len(core_arr)))):\r\n",
    "        tmp=[]\r\n",
    "        for j in i:\r\n",
    "            tmp.append(core_arr[j])\r\n",
    "        qu.append(list(list(product(*tmp))))\r\n",
    "    return list(itertools.chain(*qu))\r\n",
    "    \r\n",
    "    \r\n",
    "def Filter_df(df,essential_skill):\r\n",
    "        \r\n",
    "    only_3co=df[df.iloc[:,essential_skill][df>0].notnull().sum(axis=1)==3]\r\n",
    "    only_2co=df[df.iloc[:,essential_skill][df>0].notnull().sum(axis=1)==2]\r\n",
    "    only_2co=only_2co[~only_2co.iloc[:,-2].isin(np.unique(only_3co.iloc[:,-2]))]\r\n",
    "    \r\n",
    "    return only_2co,only_3co\r\n",
    "\r\n",
    "def trans_combi_list(core_3,core_2):\r\n",
    "    tmp=[]\r\n",
    "    for i in list(product(*[core_3,core_2])):\r\n",
    "        tmp.append(list(i[0])+list(i[1]))\r\n",
    "    return tmp\r\n",
    "\r\n",
    "def Make_combi(only_2co,only_3co):\r\n",
    "    core_3=Make_combination(only_3co,digit)\r\n",
    "    core_2=Make_combination(only_2co,digit-len(core_3[0]))\r\n",
    "    return core_2,core_3\r\n",
    "\r\n",
    "def Make_best_combi(combi,df,essential_skill):\r\n",
    "    max_score=0\r\n",
    "    best_list=[]\r\n",
    "    for comb in combi:\r\n",
    "        table=df[df.iloc[:,-1].isin(comb)]\r\n",
    "        score_arr=table.iloc[:,essential_skill].sum(axis=0)\r\n",
    "        score_arr[score_arr[score_arr>2].index]=2\r\n",
    "        score=score_arr.sum()\r\n",
    "        if max_score<score:\r\n",
    "            max_score=score\r\n",
    "            best_list=[]\r\n",
    "            best_list.append(comb)\r\n",
    "        elif max_score==score:\r\n",
    "            best_list.append(comb)\r\n",
    "    return best_list\r\n",
    "\r\n",
    "\r\n",
    "def return_core_combi(input_img,job,digit,essential_skill):\r\n",
    "    paged= Skill_cutting(Matching(input_img))\r\n",
    "    skill_classification(job,paged)\r\n",
    "    df = MakeDF(paged)\r\n",
    "    only_2co,only_3co=Filter_df(df,essential_skill)\r\n",
    "    core_2,core_3 = Make_combi(only_2co,only_3co)\r\n",
    "    combi=trans_combi_list(core_3,core_2)\r\n",
    "    best_list=Make_best_combi(combi,df,essential_skill)\r\n",
    "    return best_list,paged,df"
   ],
   "outputs": [],
   "metadata": {}
  },
  {
   "cell_type": "code",
   "execution_count": 186,
   "source": [
    "file_name=['cap1.png','cap2.png','cap3.png','cap4.png','cap5.png','cap6.png','cap7.png']\r\n",
    "input_img=[]\r\n",
    "#file_name=['null.png']\r\n",
    "for i in file_name:\r\n",
    "    input_img.append(page(Image.open(i)))\r\n",
    "#r개발용코드\r\n",
    "job='adel'\r\n",
    "digit=4\r\n",
    "essential_skill=[1,4,6]\r\n",
    "#input_img 사용자 이미지 input\r\n",
    "#job 직업\r\n",
    "#digit 사용 코어칸수\r\n",
    "#필수스킬"
   ],
   "outputs": [],
   "metadata": {}
  },
  {
   "cell_type": "code",
   "execution_count": 187,
   "source": [
    "combi_list,paged,df=return_core_combi(input_img,\"job/\"+job,digit,essential_skill)\r\n",
    "combi_list"
   ],
   "outputs": [
    {
     "output_type": "stream",
     "name": "stdout",
     "text": [
      "-54 275 -63 277\n",
      "56 111 47 104\n",
      "122 550 59 562\n",
      "232 562 169 511\n",
      "122 550 59 562\n",
      "232 562 169 511\n",
      "122 550 59 562\n",
      "232 562 169 511\n",
      "122 550 59 562\n",
      "232 562 169 511\n",
      "122 550 59 562\n",
      "232 562 169 511\n",
      "122 550 59 562\n",
      "232 562 169 511\n"
     ]
    },
    {
     "output_type": "execute_result",
     "data": {
      "text/plain": [
       "[[25, 35, 61, 64],\n",
       " [25, 35, 61, 73],\n",
       " [25, 35, 61, 78],\n",
       " [25, 35, 61, 79],\n",
       " [25, 35, 61, 108],\n",
       " [25, 35, 64, 79],\n",
       " [25, 35, 73, 79],\n",
       " [25, 35, 78, 79],\n",
       " [25, 35, 64, 108],\n",
       " [25, 35, 73, 108],\n",
       " [25, 35, 78, 108],\n",
       " [25, 35, 79, 108],\n",
       " [25, 61, 64, 79],\n",
       " [25, 61, 73, 79],\n",
       " [25, 61, 78, 79],\n",
       " [25, 61, 64, 108],\n",
       " [25, 61, 79, 108],\n",
       " [25, 64, 79, 108],\n",
       " [25, 73, 79, 108],\n",
       " [25, 78, 79, 108]]"
      ]
     },
     "metadata": {},
     "execution_count": 187
    }
   ],
   "metadata": {}
  },
  {
   "cell_type": "code",
   "execution_count": 188,
   "source": [
    "a=[]\r\n",
    "for i in paged:\r\n",
    "    a=a+i.skill_arr\r\n",
    "a\r\n",
    "    "
   ],
   "outputs": [
    {
     "output_type": "execute_result",
     "data": {
      "text/plain": [
       "[[-1, -1, -1],\n",
       " [-1, -1, -1],\n",
       " [0, 9, 7],\n",
       " [0, 7, 8],\n",
       " [0, 5, 3],\n",
       " [0, 3, 2],\n",
       " [0, 8, 3],\n",
       " [0, 7, 5],\n",
       " [0, 7, 2],\n",
       " [0, 1, 3],\n",
       " [0, 4, 5],\n",
       " [0, 8, 6],\n",
       " [1, 9, 3],\n",
       " [1, 0, 5],\n",
       " [1, 7, 3],\n",
       " [1, 8, 4],\n",
       " [1, 9, 0],\n",
       " [1, 9, 4],\n",
       " [1, 3, 0],\n",
       " [1, 9, 6],\n",
       " [1, 4, 9],\n",
       " [1, 3, 6],\n",
       " [1, 7, 4],\n",
       " [1, 0, 6],\n",
       " [1, 9, 0],\n",
       " [1, 6, 4],\n",
       " [1, 8, 3],\n",
       " [1, 3, 2],\n",
       " [2, 1, 0],\n",
       " [2, 0, 6],\n",
       " [2, 1, 9],\n",
       " [2, 5, 4],\n",
       " [2, 3, 0],\n",
       " [2, 7, 9],\n",
       " [2, 0, 1],\n",
       " [2, 1, 6],\n",
       " [2, 7, 5],\n",
       " [2, 1, 9],\n",
       " [2, 6, 9],\n",
       " [2, 4, 3],\n",
       " [2, 4, 3],\n",
       " [2, 0, 6],\n",
       " [2, 9, 0],\n",
       " [2, 3, 0],\n",
       " [2, 5, 9],\n",
       " [3, 9, 6],\n",
       " [3, 1, 0],\n",
       " [3, 9, 8],\n",
       " [3, 5, 4],\n",
       " [3, 7, 8],\n",
       " [3, 8, 1],\n",
       " [3, 4, 2],\n",
       " [3, 0, 4],\n",
       " [3, 7, 5],\n",
       " [3, 8, 6],\n",
       " [3, 7, 1],\n",
       " [3, 6, 1],\n",
       " [3, 4, 0],\n",
       " [3, 7, 1],\n",
       " [3, 9, 7],\n",
       " [3, 1, 8],\n",
       " [3, 6, 4],\n",
       " [3, 7, 5],\n",
       " [3, 2, 8],\n",
       " [4, 5, 1],\n",
       " [4, 1, 8],\n",
       " [4, 1, 9],\n",
       " [4, 5, 9],\n",
       " [4, 2, 5],\n",
       " [4, 0, 3],\n",
       " [4, 7, 3],\n",
       " [4, 3, 7],\n",
       " [4, 1, 7],\n",
       " [4, 6, 2],\n",
       " [4, 1, 8],\n",
       " [4, 1, 8],\n",
       " [4, 0, 2],\n",
       " [4, 1, 5],\n",
       " [4, 6, 9],\n",
       " [5, 1, 6],\n",
       " [5, 3, 9],\n",
       " [5, 0, 6],\n",
       " [5, 1, 8],\n",
       " [5, 6, 2],\n",
       " [5, 1, 0],\n",
       " [5, 6, 7],\n",
       " [5, 7, 3],\n",
       " [5, 9, 4],\n",
       " [5, 4, 8],\n",
       " [5, 4, 7],\n",
       " [6, 8, 3],\n",
       " [6, 4, 2],\n",
       " [6, 2, 0],\n",
       " [6, 4, 9],\n",
       " [6, 5, 7],\n",
       " [6, 2, 5],\n",
       " [6, 7, 2],\n",
       " [6, 7, 9],\n",
       " [6, 2, 4],\n",
       " [6, 0, 9],\n",
       " [6, 4, 1],\n",
       " [6, 1, 4],\n",
       " [6, 1, 5],\n",
       " [6, 3, 5],\n",
       " [6, 8, 5],\n",
       " [6, 7, 3],\n",
       " [6, 3, 8],\n",
       " [7, 9, 5],\n",
       " [7, 4, 6],\n",
       " [7, 6, 3],\n",
       " [7, 3, 4],\n",
       " [7, 4, 9],\n",
       " [7, 1, 2],\n",
       " [7, 2, 1],\n",
       " [7, 0, 3],\n",
       " [7, 9, 0],\n",
       " [7, 9, 6],\n",
       " [7, 8, 9],\n",
       " [7, 8, 0],\n",
       " [7, 9, 6],\n",
       " [7, 4, 1],\n",
       " [7, 4, 8],\n",
       " [7, 0, 4],\n",
       " [7, 5, 2],\n",
       " [7, 3, 0],\n",
       " [8, 1, 3],\n",
       " [8, 0, 5],\n",
       " [8, 5, 6],\n",
       " [8, 2, 5],\n",
       " [8, 6, 5],\n",
       " [8, 4, 1],\n",
       " [8, 4, 5],\n",
       " [8, 6, 0],\n",
       " [8, 9, 5],\n",
       " [8, 0, 6],\n",
       " [8, 5, 3],\n",
       " [8, 2, 5],\n",
       " [8, 7, 5],\n",
       " [8, 0, 5],\n",
       " [9, 0, 8],\n",
       " [9, 8, 7],\n",
       " [9, 4, 3],\n",
       " [9, 6, 1],\n",
       " [9, 6, 4],\n",
       " [9, 0, 3],\n",
       " [9, 7, 0],\n",
       " [9, 1, 3],\n",
       " [9, 0, 1],\n",
       " [9, 2, 0],\n",
       " [9, 6, 5],\n",
       " [9, 8, 6],\n",
       " [9, 7, 3]]"
      ]
     },
     "metadata": {},
     "execution_count": 188
    }
   ],
   "metadata": {}
  },
  {
   "cell_type": "code",
   "execution_count": 189,
   "source": [
    "tmp_result=[]\r\n",
    "for i in combi_list:\r\n",
    "    tmp_list=[]\r\n",
    "    for j in i:\r\n",
    "        tmp_list.append(a[j])\r\n",
    "    tmp_result.append(tmp_list)\r\n",
    "\r\n",
    "tmp_result\r\n"
   ],
   "outputs": [
    {
     "output_type": "execute_result",
     "data": {
      "text/plain": [
       "[[[1, 6, 4], [2, 1, 6], [3, 6, 4], [4, 5, 1]],\n",
       " [[1, 6, 4], [2, 1, 6], [3, 6, 4], [4, 6, 2]],\n",
       " [[1, 6, 4], [2, 1, 6], [3, 6, 4], [4, 6, 9]],\n",
       " [[1, 6, 4], [2, 1, 6], [3, 6, 4], [5, 1, 6]],\n",
       " [[1, 6, 4], [2, 1, 6], [3, 6, 4], [7, 4, 6]],\n",
       " [[1, 6, 4], [2, 1, 6], [4, 5, 1], [5, 1, 6]],\n",
       " [[1, 6, 4], [2, 1, 6], [4, 6, 2], [5, 1, 6]],\n",
       " [[1, 6, 4], [2, 1, 6], [4, 6, 9], [5, 1, 6]],\n",
       " [[1, 6, 4], [2, 1, 6], [4, 5, 1], [7, 4, 6]],\n",
       " [[1, 6, 4], [2, 1, 6], [4, 6, 2], [7, 4, 6]],\n",
       " [[1, 6, 4], [2, 1, 6], [4, 6, 9], [7, 4, 6]],\n",
       " [[1, 6, 4], [2, 1, 6], [5, 1, 6], [7, 4, 6]],\n",
       " [[1, 6, 4], [3, 6, 4], [4, 5, 1], [5, 1, 6]],\n",
       " [[1, 6, 4], [3, 6, 4], [4, 6, 2], [5, 1, 6]],\n",
       " [[1, 6, 4], [3, 6, 4], [4, 6, 9], [5, 1, 6]],\n",
       " [[1, 6, 4], [3, 6, 4], [4, 5, 1], [7, 4, 6]],\n",
       " [[1, 6, 4], [3, 6, 4], [5, 1, 6], [7, 4, 6]],\n",
       " [[1, 6, 4], [4, 5, 1], [5, 1, 6], [7, 4, 6]],\n",
       " [[1, 6, 4], [4, 6, 2], [5, 1, 6], [7, 4, 6]],\n",
       " [[1, 6, 4], [4, 6, 9], [5, 1, 6], [7, 4, 6]]]"
      ]
     },
     "metadata": {},
     "execution_count": 189
    }
   ],
   "metadata": {}
  },
  {
   "cell_type": "code",
   "execution_count": 190,
   "source": [
    "skill_level=[0]*paged[0].skill_kinds\r\n",
    "skill_level"
   ],
   "outputs": [
    {
     "output_type": "execute_result",
     "data": {
      "text/plain": [
       "[0, 0, 0, 0, 0, 0, 0, 0, 0, 0]"
      ]
     },
     "metadata": {},
     "execution_count": 190
    }
   ],
   "metadata": {}
  },
  {
   "cell_type": "code",
   "execution_count": 191,
   "source": [
    "df_tmp=df.iloc[:,-3:-1].drop_duplicates()\r\n",
    "for i,j in zip(df_tmp.iloc[:,-1].values,df_tmp.iloc[:,-2].values):\r\n",
    "    skill_level[i]=j"
   ],
   "outputs": [],
   "metadata": {}
  },
  {
   "cell_type": "code",
   "execution_count": 192,
   "source": [
    "skill_level"
   ],
   "outputs": [
    {
     "output_type": "execute_result",
     "data": {
      "text/plain": [
       "[6, 8, 8, 9, 8, 6, 8, 8, 7, 7]"
      ]
     },
     "metadata": {},
     "execution_count": 192
    }
   ],
   "metadata": {}
  },
  {
   "cell_type": "code",
   "execution_count": 193,
   "source": [
    "paged[0].skill_image"
   ],
   "outputs": [
    {
     "output_type": "execute_result",
     "data": {
      "text/plain": [
       "[<PIL.Image.Image image mode=RGBA size=40x50 at 0x27A97C0A250>,\n",
       " <PIL.Image.Image image mode=RGBA size=40x50 at 0x27A97C0A5B0>]"
      ]
     },
     "metadata": {},
     "execution_count": 193
    }
   ],
   "metadata": {}
  },
  {
   "cell_type": "code",
   "execution_count": 194,
   "source": [
    "send_json=OrderedDict()\r\n",
    "send_json[\"combi_list\"]=combi_list\r\n",
    "send_json[\"skill_arr_detail\"]=tmp_result\r\n",
    "send_json[\"skill_level\"]=skill_level\r\n",
    "json.dumps(send_json, ensure_ascii=False, cls= NumpyEncoder)"
   ],
   "outputs": [
    {
     "output_type": "execute_result",
     "data": {
      "text/plain": [
       "'{\"combi_list\": [[25, 35, 61, 64], [25, 35, 61, 73], [25, 35, 61, 78], [25, 35, 61, 79], [25, 35, 61, 108], [25, 35, 64, 79], [25, 35, 73, 79], [25, 35, 78, 79], [25, 35, 64, 108], [25, 35, 73, 108], [25, 35, 78, 108], [25, 35, 79, 108], [25, 61, 64, 79], [25, 61, 73, 79], [25, 61, 78, 79], [25, 61, 64, 108], [25, 61, 79, 108], [25, 64, 79, 108], [25, 73, 79, 108], [25, 78, 79, 108]], \"skill_arr_detail\": [[[1, 6, 4], [2, 1, 6], [3, 6, 4], [4, 5, 1]], [[1, 6, 4], [2, 1, 6], [3, 6, 4], [4, 6, 2]], [[1, 6, 4], [2, 1, 6], [3, 6, 4], [4, 6, 9]], [[1, 6, 4], [2, 1, 6], [3, 6, 4], [5, 1, 6]], [[1, 6, 4], [2, 1, 6], [3, 6, 4], [7, 4, 6]], [[1, 6, 4], [2, 1, 6], [4, 5, 1], [5, 1, 6]], [[1, 6, 4], [2, 1, 6], [4, 6, 2], [5, 1, 6]], [[1, 6, 4], [2, 1, 6], [4, 6, 9], [5, 1, 6]], [[1, 6, 4], [2, 1, 6], [4, 5, 1], [7, 4, 6]], [[1, 6, 4], [2, 1, 6], [4, 6, 2], [7, 4, 6]], [[1, 6, 4], [2, 1, 6], [4, 6, 9], [7, 4, 6]], [[1, 6, 4], [2, 1, 6], [5, 1, 6], [7, 4, 6]], [[1, 6, 4], [3, 6, 4], [4, 5, 1], [5, 1, 6]], [[1, 6, 4], [3, 6, 4], [4, 6, 2], [5, 1, 6]], [[1, 6, 4], [3, 6, 4], [4, 6, 9], [5, 1, 6]], [[1, 6, 4], [3, 6, 4], [4, 5, 1], [7, 4, 6]], [[1, 6, 4], [3, 6, 4], [5, 1, 6], [7, 4, 6]], [[1, 6, 4], [4, 5, 1], [5, 1, 6], [7, 4, 6]], [[1, 6, 4], [4, 6, 2], [5, 1, 6], [7, 4, 6]], [[1, 6, 4], [4, 6, 9], [5, 1, 6], [7, 4, 6]]], \"skill_level\": [6, 8, 8, 9, 8, 6, 8, 8, 7, 7]}'"
      ]
     },
     "metadata": {},
     "execution_count": 194
    }
   ],
   "metadata": {}
  },
  {
   "cell_type": "code",
   "execution_count": 195,
   "source": [
    "paged[0].user_page_image"
   ],
   "outputs": [
    {
     "output_type": "execute_result",
     "data": {
      "text/plain": [
       "<PIL.Image.Image image mode=RGB size=142x118 at 0x27A97CD8E80>"
      ],
      "image/png": "[encoded data removed]"
     },
     "metadata": {},
     "execution_count": 195
    }
   ],
   "metadata": {}
  },
  {
   "cell_type": "code",
   "execution_count": 196,
   "source": [
    "# type(paged[0].page_image)\r\n",
    "\r\n",
    "# img_byte_arr = io.BytesIO()\r\n",
    "# paged[0].page_image.save(img_byte_arr, format='PNG')\r\n",
    "# img_byte_arr = img_byte_arr.getvalue()\r\n",
    "# base64.b64encode(img_byte_arr)"
   ],
   "outputs": [],
   "metadata": {}
  },
  {
   "cell_type": "code",
   "execution_count": 197,
   "source": [
    "level_img=[]\r\n",
    "for i in os.listdir(\"./level\"):\r\n",
    "    level_img.append(Image.open(\"level/\"+i))\r\n",
    "for i in level_img:\r\n",
    "    display(i)"
   ],
   "outputs": [
    {
     "output_type": "display_data",
     "data": {
      "text/plain": [
       "<PIL.PngImagePlugin.PngImageFile image mode=RGB size=20x10 at 0x27A8F91CAC0>"
      ],
      "image/png": "[encoded data removed]"
     },
     "metadata": {}
    },
    {
     "output_type": "display_data",
     "data": {
      "text/plain": [
       "<PIL.PngImagePlugin.PngImageFile image mode=RGB size=20x10 at 0x27A8F91CFA0>"
      ],
      "image/png": "[encoded data removed]"
     },
     "metadata": {}
    },
    {
     "output_type": "display_data",
     "data": {
      "text/plain": [
       "<PIL.PngImagePlugin.PngImageFile image mode=RGB size=20x10 at 0x27A97C0A400>"
      ],
      "image/png": "[encoded data removed]"
     },
     "metadata": {}
    },
    {
     "output_type": "display_data",
     "data": {
      "text/plain": [
       "<PIL.PngImagePlugin.PngImageFile image mode=RGB size=20x10 at 0x27A97C0A550>"
      ],
      "image/png": "[encoded data removed]"
     },
     "metadata": {}
    },
    {
     "output_type": "display_data",
     "data": {
      "text/plain": [
       "<PIL.PngImagePlugin.PngImageFile image mode=RGB size=20x10 at 0x27A97C0A370>"
      ],
      "image/png": "[encoded data removed]"
     },
     "metadata": {}
    },
    {
     "output_type": "display_data",
     "data": {
      "text/plain": [
       "<PIL.PngImagePlugin.PngImageFile image mode=RGB size=20x10 at 0x27A97C0A430>"
      ],
      "image/png": "[encoded data removed]"
     },
     "metadata": {}
    },
    {
     "output_type": "display_data",
     "data": {
      "text/plain": [
       "<PIL.PngImagePlugin.PngImageFile image mode=RGB size=20x10 at 0x27A97C0A4C0>"
      ],
      "image/png": "[encoded data removed]"
     },
     "metadata": {}
    },
    {
     "output_type": "display_data",
     "data": {
      "text/plain": [
       "<PIL.PngImagePlugin.PngImageFile image mode=RGB size=20x10 at 0x27A97C0AA90>"
      ],
      "image/png": "[encoded data removed]"
     },
     "metadata": {}
    },
    {
     "output_type": "display_data",
     "data": {
      "text/plain": [
       "<PIL.PngImagePlugin.PngImageFile image mode=RGB size=20x10 at 0x27A97B46370>"
      ],
      "image/png": "[encoded data removed]"
     },
     "metadata": {}
    },
    {
     "output_type": "display_data",
     "data": {
      "text/plain": [
       "<PIL.PngImagePlugin.PngImageFile image mode=RGB size=20x10 at 0x27A97B461F0>"
      ],
      "image/png": "[encoded data removed]"
     },
     "metadata": {}
    },
    {
     "output_type": "display_data",
     "data": {
      "text/plain": [
       "<PIL.PngImagePlugin.PngImageFile image mode=RGB size=20x10 at 0x27A97B46D90>"
      ],
      "image/png": "[encoded data removed]"
     },
     "metadata": {}
    },
    {
     "output_type": "display_data",
     "data": {
      "text/plain": [
       "<PIL.PngImagePlugin.PngImageFile image mode=RGB size=20x10 at 0x27A97B46B20>"
      ],
      "image/png": "[encoded data removed]"
     },
     "metadata": {}
    },
    {
     "output_type": "display_data",
     "data": {
      "text/plain": [
       "<PIL.PngImagePlugin.PngImageFile image mode=RGB size=20x10 at 0x27A97B46E20>"
      ],
      "image/png": "[encoded data removed]"
     },
     "metadata": {}
    },
    {
     "output_type": "display_data",
     "data": {
      "text/plain": [
       "<PIL.PngImagePlugin.PngImageFile image mode=RGB size=20x10 at 0x27A97B46C40>"
      ],
      "image/png": "[encoded data removed]"
     },
     "metadata": {}
    },
    {
     "output_type": "display_data",
     "data": {
      "text/plain": [
       "<PIL.PngImagePlugin.PngImageFile image mode=RGB size=20x10 at 0x27A869A9FA0>"
      ],
      "image/png": "[encoded data removed]"
     },
     "metadata": {}
    },
    {
     "output_type": "display_data",
     "data": {
      "text/plain": [
       "<PIL.PngImagePlugin.PngImageFile image mode=RGB size=20x10 at 0x27A97B46130>"
      ],
      "image/png": "[encoded data removed]"
     },
     "metadata": {}
    },
    {
     "output_type": "display_data",
     "data": {
      "text/plain": [
       "<PIL.PngImagePlugin.PngImageFile image mode=RGB size=20x10 at 0x27A97B46D30>"
      ],
      "image/png": "[encoded data removed]"
     },
     "metadata": {}
    },
    {
     "output_type": "display_data",
     "data": {
      "text/plain": [
       "<PIL.PngImagePlugin.PngImageFile image mode=RGB size=20x10 at 0x27A97B46250>"
      ],
      "image/png": "[encoded data removed]"
     },
     "metadata": {}
    },
    {
     "output_type": "display_data",
     "data": {
      "text/plain": [
       "<PIL.PngImagePlugin.PngImageFile image mode=RGB size=20x10 at 0x27A97B467F0>"
      ],
      "image/png": "[encoded data removed]"
     },
     "metadata": {}
    },
    {
     "output_type": "display_data",
     "data": {
      "text/plain": [
       "<PIL.PngImagePlugin.PngImageFile image mode=RGB size=20x10 at 0x27A97B46D60>"
      ],
      "image/png": "[encoded data removed]"
     },
     "metadata": {}
    },
    {
     "output_type": "display_data",
     "data": {
      "text/plain": [
       "<PIL.PngImagePlugin.PngImageFile image mode=RGB size=20x10 at 0x27A97B46070>"
      ],
      "image/png": "[encoded data removed]"
     },
     "metadata": {}
    },
    {
     "output_type": "display_data",
     "data": {
      "text/plain": [
       "<PIL.PngImagePlugin.PngImageFile image mode=RGB size=20x10 at 0x27A97B46400>"
      ],
      "image/png": "[encoded data removed]"
     },
     "metadata": {}
    },
    {
     "output_type": "display_data",
     "data": {
      "text/plain": [
       "<PIL.PngImagePlugin.PngImageFile image mode=RGB size=20x10 at 0x27A97B46220>"
      ],
      "image/png": "[encoded data removed]"
     },
     "metadata": {}
    },
    {
     "output_type": "display_data",
     "data": {
      "text/plain": [
       "<PIL.PngImagePlugin.PngImageFile image mode=RGB size=20x10 at 0x27A97B463D0>"
      ],
      "image/png": "[encoded data removed]"
     },
     "metadata": {}
    },
    {
     "output_type": "display_data",
     "data": {
      "text/plain": [
       "<PIL.PngImagePlugin.PngImageFile image mode=RGB size=20x10 at 0x27A97B469A0>"
      ],
      "image/png": "[encoded data removed]"
     },
     "metadata": {}
    }
   ],
   "metadata": {}
  },
  {
   "cell_type": "code",
   "execution_count": 198,
   "source": [
    "for i in paged:\r\n",
    "    for j in i.skill_image:\r\n",
    "        index,res=skill_check(j,level_img)\r\n",
    "        print('{}+\":\"+{}'.format(index,res))"
   ],
   "outputs": [
    {
     "output_type": "stream",
     "name": "stdout",
     "text": [
      "2+\":\"+[0.8525, 0.9636, 1.0, 0.8614, 0.9144, 0.8691, 0.8705, 0.9054, 0.9378, 0.6451, 0.6352, 0.7537, 0.7905, 0.6473, 0.705, 0.6566, 0.6535, 0.6921, 0.7248, 0.7042, 0.6941, 0.8093, 0.8447, 0.7064, 0.7617]\n",
      "0+\":\"+[1.0, 0.838, 0.8525, 0.7509, 0.8281, 0.8516, 0.9094, 0.8556, 0.8622, 0.6003, 0.7765, 0.616, 0.6301, 0.5248, 0.6078, 0.6299, 0.6837, 0.6323, 0.6384, 0.6672, 0.8383, 0.6829, 0.6963, 0.5946, 0.6746]\n",
      "0+\":\"+[1.0, 0.838, 0.8525, 0.7509, 0.8281, 0.8516, 0.9094, 0.8556, 0.8622, 0.6003, 0.7765, 0.616, 0.6301, 0.5248, 0.6078, 0.6299, 0.6837, 0.6323, 0.6384, 0.6672, 0.8383, 0.6829, 0.6963, 0.5946, 0.6746]\n",
      "0+\":\"+[1.0, 0.838, 0.8525, 0.7509, 0.8281, 0.8516, 0.9094, 0.8556, 0.8622, 0.6003, 0.7765, 0.616, 0.6301, 0.5248, 0.6078, 0.6299, 0.6837, 0.6323, 0.6384, 0.6672, 0.8383, 0.6829, 0.6963, 0.5946, 0.6746]\n",
      "0+\":\"+[1.0, 0.838, 0.8525, 0.7509, 0.8281, 0.8516, 0.9094, 0.8556, 0.8622, 0.6003, 0.7765, 0.616, 0.6301, 0.5248, 0.6078, 0.6299, 0.6837, 0.6323, 0.6384, 0.6672, 0.8383, 0.6829, 0.6963, 0.5946, 0.6746]\n",
      "0+\":\"+[1.0, 0.838, 0.8525, 0.7509, 0.8281, 0.8516, 0.9094, 0.8556, 0.8622, 0.6003, 0.7765, 0.616, 0.6301, 0.5248, 0.6078, 0.6299, 0.6837, 0.6323, 0.6384, 0.6672, 0.8383, 0.6829, 0.6963, 0.5946, 0.6746]\n",
      "0+\":\"+[1.0, 0.838, 0.8525, 0.7509, 0.8281, 0.8516, 0.9094, 0.8556, 0.8622, 0.6003, 0.7765, 0.616, 0.6301, 0.5248, 0.6078, 0.6299, 0.6837, 0.6323, 0.6384, 0.6672, 0.8383, 0.6829, 0.6963, 0.5946, 0.6746]\n",
      "0+\":\"+[1.0, 0.838, 0.8525, 0.7509, 0.8281, 0.8516, 0.9094, 0.8556, 0.8622, 0.6003, 0.7765, 0.616, 0.6301, 0.5248, 0.6078, 0.6299, 0.6837, 0.6323, 0.6384, 0.6672, 0.8383, 0.6829, 0.6963, 0.5946, 0.6746]\n",
      "0+\":\"+[1.0, 0.838, 0.8525, 0.7509, 0.8281, 0.8516, 0.9094, 0.8556, 0.8622, 0.6003, 0.7765, 0.616, 0.6301, 0.5248, 0.6078, 0.6299, 0.6837, 0.6323, 0.6384, 0.6672, 0.8383, 0.6829, 0.6963, 0.5946, 0.6746]\n",
      "0+\":\"+[1.0, 0.838, 0.8525, 0.7509, 0.8281, 0.8516, 0.9094, 0.8556, 0.8622, 0.6003, 0.7765, 0.616, 0.6301, 0.5248, 0.6078, 0.6299, 0.6837, 0.6323, 0.6384, 0.6672, 0.8383, 0.6829, 0.6963, 0.5946, 0.6746]\n",
      "0+\":\"+[1.0, 0.838, 0.8525, 0.7509, 0.8281, 0.8516, 0.9094, 0.8556, 0.8622, 0.6003, 0.7765, 0.616, 0.6301, 0.5248, 0.6078, 0.6299, 0.6837, 0.6323, 0.6384, 0.6672, 0.8383, 0.6829, 0.6963, 0.5946, 0.6746]\n",
      "0+\":\"+[1.0, 0.838, 0.8525, 0.7509, 0.8281, 0.8516, 0.9094, 0.8556, 0.8622, 0.6003, 0.7765, 0.616, 0.6301, 0.5248, 0.6078, 0.6299, 0.6837, 0.6323, 0.6384, 0.6672, 0.8383, 0.6829, 0.6963, 0.5946, 0.6746]\n",
      "0+\":\"+[1.0, 0.838, 0.8525, 0.7509, 0.8281, 0.8516, 0.9094, 0.8556, 0.8622, 0.6003, 0.7765, 0.616, 0.6301, 0.5248, 0.6078, 0.6299, 0.6837, 0.6323, 0.6384, 0.6672, 0.8383, 0.6829, 0.6963, 0.5946, 0.6746]\n",
      "0+\":\"+[1.0, 0.838, 0.8525, 0.7509, 0.8281, 0.8516, 0.9094, 0.8556, 0.8622, 0.6003, 0.7765, 0.616, 0.6301, 0.5248, 0.6078, 0.6299, 0.6837, 0.6323, 0.6384, 0.6672, 0.8383, 0.6829, 0.6963, 0.5946, 0.6746]\n",
      "0+\":\"+[1.0, 0.838, 0.8525, 0.7509, 0.8281, 0.8516, 0.9094, 0.8556, 0.8622, 0.6003, 0.7765, 0.616, 0.6301, 0.5248, 0.6078, 0.6299, 0.6837, 0.6323, 0.6384, 0.6672, 0.8383, 0.6829, 0.6963, 0.5946, 0.6746]\n",
      "0+\":\"+[1.0, 0.838, 0.8525, 0.7509, 0.8281, 0.8516, 0.9094, 0.8556, 0.8622, 0.6003, 0.7765, 0.616, 0.6301, 0.5248, 0.6078, 0.6299, 0.6837, 0.6323, 0.6384, 0.6672, 0.8383, 0.6829, 0.6963, 0.5946, 0.6746]\n",
      "0+\":\"+[1.0, 0.838, 0.8525, 0.7509, 0.8281, 0.8516, 0.9094, 0.8556, 0.8622, 0.6003, 0.7765, 0.616, 0.6301, 0.5248, 0.6078, 0.6299, 0.6837, 0.6323, 0.6384, 0.6672, 0.8383, 0.6829, 0.6963, 0.5946, 0.6746]\n",
      "0+\":\"+[1.0, 0.838, 0.8525, 0.7509, 0.8281, 0.8516, 0.9094, 0.8556, 0.8622, 0.6003, 0.7765, 0.616, 0.6301, 0.5248, 0.6078, 0.6299, 0.6837, 0.6323, 0.6384, 0.6672, 0.8383, 0.6829, 0.6963, 0.5946, 0.6746]\n",
      "0+\":\"+[1.0, 0.838, 0.8525, 0.7509, 0.8281, 0.8516, 0.9094, 0.8556, 0.8622, 0.6003, 0.7765, 0.616, 0.6301, 0.5248, 0.6078, 0.6299, 0.6837, 0.6323, 0.6384, 0.6672, 0.8383, 0.6829, 0.6963, 0.5946, 0.6746]\n",
      "0+\":\"+[1.0, 0.838, 0.8525, 0.7509, 0.8281, 0.8516, 0.9094, 0.8556, 0.8622, 0.6003, 0.7765, 0.616, 0.6301, 0.5248, 0.6078, 0.6299, 0.6837, 0.6323, 0.6384, 0.6672, 0.8383, 0.6829, 0.6963, 0.5946, 0.6746]\n",
      "0+\":\"+[1.0, 0.838, 0.8525, 0.7509, 0.8281, 0.8516, 0.9094, 0.8556, 0.8622, 0.6003, 0.7765, 0.616, 0.6301, 0.5248, 0.6078, 0.6299, 0.6837, 0.6323, 0.6384, 0.6672, 0.8383, 0.6829, 0.6963, 0.5946, 0.6746]\n",
      "0+\":\"+[1.0, 0.838, 0.8525, 0.7509, 0.8281, 0.8516, 0.9094, 0.8556, 0.8622, 0.6003, 0.7765, 0.616, 0.6301, 0.5248, 0.6078, 0.6299, 0.6837, 0.6323, 0.6384, 0.6672, 0.8383, 0.6829, 0.6963, 0.5946, 0.6746]\n",
      "0+\":\"+[1.0, 0.838, 0.8525, 0.7509, 0.8281, 0.8516, 0.9094, 0.8556, 0.8622, 0.6003, 0.7765, 0.616, 0.6301, 0.5248, 0.6078, 0.6299, 0.6837, 0.6323, 0.6384, 0.6672, 0.8383, 0.6829, 0.6963, 0.5946, 0.6746]\n",
      "0+\":\"+[1.0, 0.838, 0.8525, 0.7509, 0.8281, 0.8516, 0.9094, 0.8556, 0.8622, 0.6003, 0.7765, 0.616, 0.6301, 0.5248, 0.6078, 0.6299, 0.6837, 0.6323, 0.6384, 0.6672, 0.8383, 0.6829, 0.6963, 0.5946, 0.6746]\n",
      "0+\":\"+[1.0, 0.838, 0.8525, 0.7509, 0.8281, 0.8516, 0.9094, 0.8556, 0.8622, 0.6003, 0.7765, 0.616, 0.6301, 0.5248, 0.6078, 0.6299, 0.6837, 0.6323, 0.6384, 0.6672, 0.8383, 0.6829, 0.6963, 0.5946, 0.6746]\n",
      "0+\":\"+[1.0, 0.838, 0.8525, 0.7509, 0.8281, 0.8516, 0.9094, 0.8556, 0.8622, 0.6003, 0.7765, 0.616, 0.6301, 0.5248, 0.6078, 0.6299, 0.6837, 0.6323, 0.6384, 0.6672, 0.8383, 0.6829, 0.6963, 0.5946, 0.6746]\n",
      "0+\":\"+[1.0, 0.838, 0.8525, 0.7509, 0.8281, 0.8516, 0.9094, 0.8556, 0.8622, 0.6003, 0.7765, 0.616, 0.6301, 0.5248, 0.6078, 0.6299, 0.6837, 0.6323, 0.6384, 0.6672, 0.8383, 0.6829, 0.6963, 0.5946, 0.6746]\n",
      "0+\":\"+[1.0, 0.838, 0.8525, 0.7509, 0.8281, 0.8516, 0.9094, 0.8556, 0.8622, 0.6003, 0.7765, 0.616, 0.6301, 0.5248, 0.6078, 0.6299, 0.6837, 0.6323, 0.6384, 0.6672, 0.8383, 0.6829, 0.6963, 0.5946, 0.6746]\n",
      "0+\":\"+[1.0, 0.838, 0.8525, 0.7509, 0.8281, 0.8516, 0.9094, 0.8556, 0.8622, 0.6003, 0.7765, 0.616, 0.6301, 0.5248, 0.6078, 0.6299, 0.6837, 0.6323, 0.6384, 0.6672, 0.8383, 0.6829, 0.6963, 0.5946, 0.6746]\n",
      "0+\":\"+[1.0, 0.838, 0.8525, 0.7509, 0.8281, 0.8516, 0.9094, 0.8556, 0.8622, 0.6003, 0.7765, 0.616, 0.6301, 0.5248, 0.6078, 0.6299, 0.6837, 0.6323, 0.6384, 0.6672, 0.8383, 0.6829, 0.6963, 0.5946, 0.6746]\n",
      "0+\":\"+[1.0, 0.838, 0.8525, 0.7509, 0.8281, 0.8516, 0.9094, 0.8556, 0.8622, 0.6003, 0.7765, 0.616, 0.6301, 0.5248, 0.6078, 0.6299, 0.6837, 0.6323, 0.6384, 0.6672, 0.8383, 0.6829, 0.6963, 0.5946, 0.6746]\n",
      "0+\":\"+[1.0, 0.838, 0.8525, 0.7509, 0.8281, 0.8516, 0.9094, 0.8556, 0.8622, 0.6003, 0.7765, 0.616, 0.6301, 0.5248, 0.6078, 0.6299, 0.6837, 0.6323, 0.6384, 0.6672, 0.8383, 0.6829, 0.6963, 0.5946, 0.6746]\n",
      "0+\":\"+[1.0, 0.838, 0.8525, 0.7509, 0.8281, 0.8516, 0.9094, 0.8556, 0.8622, 0.6003, 0.7765, 0.616, 0.6301, 0.5248, 0.6078, 0.6299, 0.6837, 0.6323, 0.6384, 0.6672, 0.8383, 0.6829, 0.6963, 0.5946, 0.6746]\n",
      "0+\":\"+[1.0, 0.838, 0.8525, 0.7509, 0.8281, 0.8516, 0.9094, 0.8556, 0.8622, 0.6003, 0.7765, 0.616, 0.6301, 0.5248, 0.6078, 0.6299, 0.6837, 0.6323, 0.6384, 0.6672, 0.8383, 0.6829, 0.6963, 0.5946, 0.6746]\n",
      "0+\":\"+[1.0, 0.838, 0.8525, 0.7509, 0.8281, 0.8516, 0.9094, 0.8556, 0.8622, 0.6003, 0.7765, 0.616, 0.6301, 0.5248, 0.6078, 0.6299, 0.6837, 0.6323, 0.6384, 0.6672, 0.8383, 0.6829, 0.6963, 0.5946, 0.6746]\n",
      "0+\":\"+[1.0, 0.838, 0.8525, 0.7509, 0.8281, 0.8516, 0.9094, 0.8556, 0.8622, 0.6003, 0.7765, 0.616, 0.6301, 0.5248, 0.6078, 0.6299, 0.6837, 0.6323, 0.6384, 0.6672, 0.8383, 0.6829, 0.6963, 0.5946, 0.6746]\n",
      "0+\":\"+[1.0, 0.838, 0.8525, 0.7509, 0.8281, 0.8516, 0.9094, 0.8556, 0.8622, 0.6003, 0.7765, 0.616, 0.6301, 0.5248, 0.6078, 0.6299, 0.6837, 0.6323, 0.6384, 0.6672, 0.8383, 0.6829, 0.6963, 0.5946, 0.6746]\n",
      "0+\":\"+[1.0, 0.838, 0.8525, 0.7509, 0.8281, 0.8516, 0.9094, 0.8556, 0.8622, 0.6003, 0.7765, 0.616, 0.6301, 0.5248, 0.6078, 0.6299, 0.6837, 0.6323, 0.6384, 0.6672, 0.8383, 0.6829, 0.6963, 0.5946, 0.6746]\n",
      "0+\":\"+[1.0, 0.838, 0.8525, 0.7509, 0.8281, 0.8516, 0.9094, 0.8556, 0.8622, 0.6003, 0.7765, 0.616, 0.6301, 0.5248, 0.6078, 0.6299, 0.6837, 0.6323, 0.6384, 0.6672, 0.8383, 0.6829, 0.6963, 0.5946, 0.6746]\n",
      "0+\":\"+[1.0, 0.838, 0.8525, 0.7509, 0.8281, 0.8516, 0.9094, 0.8556, 0.8622, 0.6003, 0.7765, 0.616, 0.6301, 0.5248, 0.6078, 0.6299, 0.6837, 0.6323, 0.6384, 0.6672, 0.8383, 0.6829, 0.6963, 0.5946, 0.6746]\n",
      "0+\":\"+[1.0, 0.838, 0.8525, 0.7509, 0.8281, 0.8516, 0.9094, 0.8556, 0.8622, 0.6003, 0.7765, 0.616, 0.6301, 0.5248, 0.6078, 0.6299, 0.6837, 0.6323, 0.6384, 0.6672, 0.8383, 0.6829, 0.6963, 0.5946, 0.6746]\n",
      "0+\":\"+[1.0, 0.838, 0.8525, 0.7509, 0.8281, 0.8516, 0.9094, 0.8556, 0.8622, 0.6003, 0.7765, 0.616, 0.6301, 0.5248, 0.6078, 0.6299, 0.6837, 0.6323, 0.6384, 0.6672, 0.8383, 0.6829, 0.6963, 0.5946, 0.6746]\n",
      "0+\":\"+[1.0, 0.838, 0.8525, 0.7509, 0.8281, 0.8516, 0.9094, 0.8556, 0.8622, 0.6003, 0.7765, 0.616, 0.6301, 0.5248, 0.6078, 0.6299, 0.6837, 0.6323, 0.6384, 0.6672, 0.8383, 0.6829, 0.6963, 0.5946, 0.6746]\n",
      "0+\":\"+[1.0, 0.838, 0.8525, 0.7509, 0.8281, 0.8516, 0.9094, 0.8556, 0.8622, 0.6003, 0.7765, 0.616, 0.6301, 0.5248, 0.6078, 0.6299, 0.6837, 0.6323, 0.6384, 0.6672, 0.8383, 0.6829, 0.6963, 0.5946, 0.6746]\n",
      "0+\":\"+[1.0, 0.838, 0.8525, 0.7509, 0.8281, 0.8516, 0.9094, 0.8556, 0.8622, 0.6003, 0.7765, 0.616, 0.6301, 0.5248, 0.6078, 0.6299, 0.6837, 0.6323, 0.6384, 0.6672, 0.8383, 0.6829, 0.6963, 0.5946, 0.6746]\n",
      "0+\":\"+[1.0, 0.838, 0.8525, 0.7509, 0.8281, 0.8516, 0.9094, 0.8556, 0.8622, 0.6003, 0.7765, 0.616, 0.6301, 0.5248, 0.6078, 0.6299, 0.6837, 0.6323, 0.6384, 0.6672, 0.8383, 0.6829, 0.6963, 0.5946, 0.6746]\n",
      "0+\":\"+[1.0, 0.838, 0.8525, 0.7509, 0.8281, 0.8516, 0.9094, 0.8556, 0.8622, 0.6003, 0.7765, 0.616, 0.6301, 0.5248, 0.6078, 0.6299, 0.6837, 0.6323, 0.6384, 0.6672, 0.8383, 0.6829, 0.6963, 0.5946, 0.6746]\n",
      "0+\":\"+[1.0, 0.838, 0.8525, 0.7509, 0.8281, 0.8516, 0.9094, 0.8556, 0.8622, 0.6003, 0.7765, 0.616, 0.6301, 0.5248, 0.6078, 0.6299, 0.6837, 0.6323, 0.6384, 0.6672, 0.8383, 0.6829, 0.6963, 0.5946, 0.6746]\n",
      "0+\":\"+[1.0, 0.838, 0.8525, 0.7509, 0.8281, 0.8516, 0.9094, 0.8556, 0.8622, 0.6003, 0.7765, 0.616, 0.6301, 0.5248, 0.6078, 0.6299, 0.6837, 0.6323, 0.6384, 0.6672, 0.8383, 0.6829, 0.6963, 0.5946, 0.6746]\n",
      "0+\":\"+[1.0, 0.838, 0.8525, 0.7509, 0.8281, 0.8516, 0.9094, 0.8556, 0.8622, 0.6003, 0.7765, 0.616, 0.6301, 0.5248, 0.6078, 0.6299, 0.6837, 0.6323, 0.6384, 0.6672, 0.8383, 0.6829, 0.6963, 0.5946, 0.6746]\n",
      "0+\":\"+[1.0, 0.838, 0.8525, 0.7509, 0.8281, 0.8516, 0.9094, 0.8556, 0.8622, 0.6003, 0.7765, 0.616, 0.6301, 0.5248, 0.6078, 0.6299, 0.6837, 0.6323, 0.6384, 0.6672, 0.8383, 0.6829, 0.6963, 0.5946, 0.6746]\n",
      "0+\":\"+[1.0, 0.838, 0.8525, 0.7509, 0.8281, 0.8516, 0.9094, 0.8556, 0.8622, 0.6003, 0.7765, 0.616, 0.6301, 0.5248, 0.6078, 0.6299, 0.6837, 0.6323, 0.6384, 0.6672, 0.8383, 0.6829, 0.6963, 0.5946, 0.6746]\n",
      "0+\":\"+[1.0, 0.838, 0.8525, 0.7509, 0.8281, 0.8516, 0.9094, 0.8556, 0.8622, 0.6003, 0.7765, 0.616, 0.6301, 0.5248, 0.6078, 0.6299, 0.6837, 0.6323, 0.6384, 0.6672, 0.8383, 0.6829, 0.6963, 0.5946, 0.6746]\n",
      "0+\":\"+[1.0, 0.838, 0.8525, 0.7509, 0.8281, 0.8516, 0.9094, 0.8556, 0.8622, 0.6003, 0.7765, 0.616, 0.6301, 0.5248, 0.6078, 0.6299, 0.6837, 0.6323, 0.6384, 0.6672, 0.8383, 0.6829, 0.6963, 0.5946, 0.6746]\n",
      "0+\":\"+[1.0, 0.838, 0.8525, 0.7509, 0.8281, 0.8516, 0.9094, 0.8556, 0.8622, 0.6003, 0.7765, 0.616, 0.6301, 0.5248, 0.6078, 0.6299, 0.6837, 0.6323, 0.6384, 0.6672, 0.8383, 0.6829, 0.6963, 0.5946, 0.6746]\n",
      "0+\":\"+[1.0, 0.838, 0.8525, 0.7509, 0.8281, 0.8516, 0.9094, 0.8556, 0.8622, 0.6003, 0.7765, 0.616, 0.6301, 0.5248, 0.6078, 0.6299, 0.6837, 0.6323, 0.6384, 0.6672, 0.8383, 0.6829, 0.6963, 0.5946, 0.6746]\n",
      "0+\":\"+[1.0, 0.838, 0.8525, 0.7509, 0.8281, 0.8516, 0.9094, 0.8556, 0.8622, 0.6003, 0.7765, 0.616, 0.6301, 0.5248, 0.6078, 0.6299, 0.6837, 0.6323, 0.6384, 0.6672, 0.8383, 0.6829, 0.6963, 0.5946, 0.6746]\n",
      "0+\":\"+[1.0, 0.838, 0.8525, 0.7509, 0.8281, 0.8516, 0.9094, 0.8556, 0.8622, 0.6003, 0.7765, 0.616, 0.6301, 0.5248, 0.6078, 0.6299, 0.6837, 0.6323, 0.6384, 0.6672, 0.8383, 0.6829, 0.6963, 0.5946, 0.6746]\n",
      "0+\":\"+[1.0, 0.838, 0.8525, 0.7509, 0.8281, 0.8516, 0.9094, 0.8556, 0.8622, 0.6003, 0.7765, 0.616, 0.6301, 0.5248, 0.6078, 0.6299, 0.6837, 0.6323, 0.6384, 0.6672, 0.8383, 0.6829, 0.6963, 0.5946, 0.6746]\n",
      "0+\":\"+[1.0, 0.838, 0.8525, 0.7509, 0.8281, 0.8516, 0.9094, 0.8556, 0.8622, 0.6003, 0.7765, 0.616, 0.6301, 0.5248, 0.6078, 0.6299, 0.6837, 0.6323, 0.6384, 0.6672, 0.8383, 0.6829, 0.6963, 0.5946, 0.6746]\n",
      "0+\":\"+[1.0, 0.838, 0.8525, 0.7509, 0.8281, 0.8516, 0.9094, 0.8556, 0.8622, 0.6003, 0.7765, 0.616, 0.6301, 0.5248, 0.6078, 0.6299, 0.6837, 0.6323, 0.6384, 0.6672, 0.8383, 0.6829, 0.6963, 0.5946, 0.6746]\n",
      "0+\":\"+[1.0, 0.838, 0.8525, 0.7509, 0.8281, 0.8516, 0.9094, 0.8556, 0.8622, 0.6003, 0.7765, 0.616, 0.6301, 0.5248, 0.6078, 0.6299, 0.6837, 0.6323, 0.6384, 0.6672, 0.8383, 0.6829, 0.6963, 0.5946, 0.6746]\n",
      "0+\":\"+[1.0, 0.838, 0.8525, 0.7509, 0.8281, 0.8516, 0.9094, 0.8556, 0.8622, 0.6003, 0.7765, 0.616, 0.6301, 0.5248, 0.6078, 0.6299, 0.6837, 0.6323, 0.6384, 0.6672, 0.8383, 0.6829, 0.6963, 0.5946, 0.6746]\n",
      "0+\":\"+[1.0, 0.838, 0.8525, 0.7509, 0.8281, 0.8516, 0.9094, 0.8556, 0.8622, 0.6003, 0.7765, 0.616, 0.6301, 0.5248, 0.6078, 0.6299, 0.6837, 0.6323, 0.6384, 0.6672, 0.8383, 0.6829, 0.6963, 0.5946, 0.6746]\n",
      "0+\":\"+[1.0, 0.838, 0.8525, 0.7509, 0.8281, 0.8516, 0.9094, 0.8556, 0.8622, 0.6003, 0.7765, 0.616, 0.6301, 0.5248, 0.6078, 0.6299, 0.6837, 0.6323, 0.6384, 0.6672, 0.8383, 0.6829, 0.6963, 0.5946, 0.6746]\n",
      "0+\":\"+[1.0, 0.838, 0.8525, 0.7509, 0.8281, 0.8516, 0.9094, 0.8556, 0.8622, 0.6003, 0.7765, 0.616, 0.6301, 0.5248, 0.6078, 0.6299, 0.6837, 0.6323, 0.6384, 0.6672, 0.8383, 0.6829, 0.6963, 0.5946, 0.6746]\n",
      "0+\":\"+[1.0, 0.838, 0.8525, 0.7509, 0.8281, 0.8516, 0.9094, 0.8556, 0.8622, 0.6003, 0.7765, 0.616, 0.6301, 0.5248, 0.6078, 0.6299, 0.6837, 0.6323, 0.6384, 0.6672, 0.8383, 0.6829, 0.6963, 0.5946, 0.6746]\n",
      "0+\":\"+[1.0, 0.838, 0.8525, 0.7509, 0.8281, 0.8516, 0.9094, 0.8556, 0.8622, 0.6003, 0.7765, 0.616, 0.6301, 0.5248, 0.6078, 0.6299, 0.6837, 0.6323, 0.6384, 0.6672, 0.8383, 0.6829, 0.6963, 0.5946, 0.6746]\n",
      "0+\":\"+[1.0, 0.838, 0.8525, 0.7509, 0.8281, 0.8516, 0.9094, 0.8556, 0.8622, 0.6003, 0.7765, 0.616, 0.6301, 0.5248, 0.6078, 0.6299, 0.6837, 0.6323, 0.6384, 0.6672, 0.8383, 0.6829, 0.6963, 0.5946, 0.6746]\n",
      "0+\":\"+[1.0, 0.838, 0.8525, 0.7509, 0.8281, 0.8516, 0.9094, 0.8556, 0.8622, 0.6003, 0.7765, 0.616, 0.6301, 0.5248, 0.6078, 0.6299, 0.6837, 0.6323, 0.6384, 0.6672, 0.8383, 0.6829, 0.6963, 0.5946, 0.6746]\n",
      "0+\":\"+[1.0, 0.838, 0.8525, 0.7509, 0.8281, 0.8516, 0.9094, 0.8556, 0.8622, 0.6003, 0.7765, 0.616, 0.6301, 0.5248, 0.6078, 0.6299, 0.6837, 0.6323, 0.6384, 0.6672, 0.8383, 0.6829, 0.6963, 0.5946, 0.6746]\n",
      "0+\":\"+[1.0, 0.838, 0.8525, 0.7509, 0.8281, 0.8516, 0.9094, 0.8556, 0.8622, 0.6003, 0.7765, 0.616, 0.6301, 0.5248, 0.6078, 0.6299, 0.6837, 0.6323, 0.6384, 0.6672, 0.8383, 0.6829, 0.6963, 0.5946, 0.6746]\n",
      "0+\":\"+[1.0, 0.838, 0.8525, 0.7509, 0.8281, 0.8516, 0.9094, 0.8556, 0.8622, 0.6003, 0.7765, 0.616, 0.6301, 0.5248, 0.6078, 0.6299, 0.6837, 0.6323, 0.6384, 0.6672, 0.8383, 0.6829, 0.6963, 0.5946, 0.6746]\n",
      "0+\":\"+[1.0, 0.838, 0.8525, 0.7509, 0.8281, 0.8516, 0.9094, 0.8556, 0.8622, 0.6003, 0.7765, 0.616, 0.6301, 0.5248, 0.6078, 0.6299, 0.6837, 0.6323, 0.6384, 0.6672, 0.8383, 0.6829, 0.6963, 0.5946, 0.6746]\n",
      "0+\":\"+[1.0, 0.838, 0.8525, 0.7509, 0.8281, 0.8516, 0.9094, 0.8556, 0.8622, 0.6003, 0.7765, 0.616, 0.6301, 0.5248, 0.6078, 0.6299, 0.6837, 0.6323, 0.6384, 0.6672, 0.8383, 0.6829, 0.6963, 0.5946, 0.6746]\n",
      "0+\":\"+[1.0, 0.838, 0.8525, 0.7509, 0.8281, 0.8516, 0.9094, 0.8556, 0.8622, 0.6003, 0.7765, 0.616, 0.6301, 0.5248, 0.6078, 0.6299, 0.6837, 0.6323, 0.6384, 0.6672, 0.8383, 0.6829, 0.6963, 0.5946, 0.6746]\n",
      "0+\":\"+[1.0, 0.838, 0.8525, 0.7509, 0.8281, 0.8516, 0.9094, 0.8556, 0.8622, 0.6003, 0.7765, 0.616, 0.6301, 0.5248, 0.6078, 0.6299, 0.6837, 0.6323, 0.6384, 0.6672, 0.8383, 0.6829, 0.6963, 0.5946, 0.6746]\n",
      "0+\":\"+[1.0, 0.838, 0.8525, 0.7509, 0.8281, 0.8516, 0.9094, 0.8556, 0.8622, 0.6003, 0.7765, 0.616, 0.6301, 0.5248, 0.6078, 0.6299, 0.6837, 0.6323, 0.6384, 0.6672, 0.8383, 0.6829, 0.6963, 0.5946, 0.6746]\n",
      "0+\":\"+[1.0, 0.838, 0.8525, 0.7509, 0.8281, 0.8516, 0.9094, 0.8556, 0.8622, 0.6003, 0.7765, 0.616, 0.6301, 0.5248, 0.6078, 0.6299, 0.6837, 0.6323, 0.6384, 0.6672, 0.8383, 0.6829, 0.6963, 0.5946, 0.6746]\n",
      "0+\":\"+[1.0, 0.838, 0.8525, 0.7509, 0.8281, 0.8516, 0.9094, 0.8556, 0.8622, 0.6003, 0.7765, 0.616, 0.6301, 0.5248, 0.6078, 0.6299, 0.6837, 0.6323, 0.6384, 0.6672, 0.8383, 0.6829, 0.6963, 0.5946, 0.6746]\n",
      "0+\":\"+[1.0, 0.838, 0.8525, 0.7509, 0.8281, 0.8516, 0.9094, 0.8556, 0.8622, 0.6003, 0.7765, 0.616, 0.6301, 0.5248, 0.6078, 0.6299, 0.6837, 0.6323, 0.6384, 0.6672, 0.8383, 0.6829, 0.6963, 0.5946, 0.6746]\n",
      "0+\":\"+[1.0, 0.838, 0.8525, 0.7509, 0.8281, 0.8516, 0.9094, 0.8556, 0.8622, 0.6003, 0.7765, 0.616, 0.6301, 0.5248, 0.6078, 0.6299, 0.6837, 0.6323, 0.6384, 0.6672, 0.8383, 0.6829, 0.6963, 0.5946, 0.6746]\n",
      "0+\":\"+[1.0, 0.838, 0.8525, 0.7509, 0.8281, 0.8516, 0.9094, 0.8556, 0.8622, 0.6003, 0.7765, 0.616, 0.6301, 0.5248, 0.6078, 0.6299, 0.6837, 0.6323, 0.6384, 0.6672, 0.8383, 0.6829, 0.6963, 0.5946, 0.6746]\n",
      "0+\":\"+[1.0, 0.838, 0.8525, 0.7509, 0.8281, 0.8516, 0.9094, 0.8556, 0.8622, 0.6003, 0.7765, 0.616, 0.6301, 0.5248, 0.6078, 0.6299, 0.6837, 0.6323, 0.6384, 0.6672, 0.8383, 0.6829, 0.6963, 0.5946, 0.6746]\n",
      "0+\":\"+[1.0, 0.838, 0.8525, 0.7509, 0.8281, 0.8516, 0.9094, 0.8556, 0.8622, 0.6003, 0.7765, 0.616, 0.6301, 0.5248, 0.6078, 0.6299, 0.6837, 0.6323, 0.6384, 0.6672, 0.8383, 0.6829, 0.6963, 0.5946, 0.6746]\n",
      "0+\":\"+[1.0, 0.838, 0.8525, 0.7509, 0.8281, 0.8516, 0.9094, 0.8556, 0.8622, 0.6003, 0.7765, 0.616, 0.6301, 0.5248, 0.6078, 0.6299, 0.6837, 0.6323, 0.6384, 0.6672, 0.8383, 0.6829, 0.6963, 0.5946, 0.6746]\n",
      "0+\":\"+[1.0, 0.838, 0.8525, 0.7509, 0.8281, 0.8516, 0.9094, 0.8556, 0.8622, 0.6003, 0.7765, 0.616, 0.6301, 0.5248, 0.6078, 0.6299, 0.6837, 0.6323, 0.6384, 0.6672, 0.8383, 0.6829, 0.6963, 0.5946, 0.6746]\n",
      "0+\":\"+[1.0, 0.838, 0.8525, 0.7509, 0.8281, 0.8516, 0.9094, 0.8556, 0.8622, 0.6003, 0.7765, 0.616, 0.6301, 0.5248, 0.6078, 0.6299, 0.6837, 0.6323, 0.6384, 0.6672, 0.8383, 0.6829, 0.6963, 0.5946, 0.6746]\n",
      "0+\":\"+[1.0, 0.838, 0.8525, 0.7509, 0.8281, 0.8516, 0.9094, 0.8556, 0.8622, 0.6003, 0.7765, 0.616, 0.6301, 0.5248, 0.6078, 0.6299, 0.6837, 0.6323, 0.6384, 0.6672, 0.8383, 0.6829, 0.6963, 0.5946, 0.6746]\n",
      "0+\":\"+[1.0, 0.838, 0.8525, 0.7509, 0.8281, 0.8516, 0.9094, 0.8556, 0.8622, 0.6003, 0.7765, 0.616, 0.6301, 0.5248, 0.6078, 0.6299, 0.6837, 0.6323, 0.6384, 0.6672, 0.8383, 0.6829, 0.6963, 0.5946, 0.6746]\n",
      "0+\":\"+[1.0, 0.838, 0.8525, 0.7509, 0.8281, 0.8516, 0.9094, 0.8556, 0.8622, 0.6003, 0.7765, 0.616, 0.6301, 0.5248, 0.6078, 0.6299, 0.6837, 0.6323, 0.6384, 0.6672, 0.8383, 0.6829, 0.6963, 0.5946, 0.6746]\n",
      "0+\":\"+[1.0, 0.838, 0.8525, 0.7509, 0.8281, 0.8516, 0.9094, 0.8556, 0.8622, 0.6003, 0.7765, 0.616, 0.6301, 0.5248, 0.6078, 0.6299, 0.6837, 0.6323, 0.6384, 0.6672, 0.8383, 0.6829, 0.6963, 0.5946, 0.6746]\n",
      "0+\":\"+[1.0, 0.838, 0.8525, 0.7509, 0.8281, 0.8516, 0.9094, 0.8556, 0.8622, 0.6003, 0.7765, 0.616, 0.6301, 0.5248, 0.6078, 0.6299, 0.6837, 0.6323, 0.6384, 0.6672, 0.8383, 0.6829, 0.6963, 0.5946, 0.6746]\n",
      "0+\":\"+[1.0, 0.838, 0.8525, 0.7509, 0.8281, 0.8516, 0.9094, 0.8556, 0.8622, 0.6003, 0.7765, 0.616, 0.6301, 0.5248, 0.6078, 0.6299, 0.6837, 0.6323, 0.6384, 0.6672, 0.8383, 0.6829, 0.6963, 0.5946, 0.6746]\n",
      "0+\":\"+[1.0, 0.838, 0.8525, 0.7509, 0.8281, 0.8516, 0.9094, 0.8556, 0.8622, 0.6003, 0.7765, 0.616, 0.6301, 0.5248, 0.6078, 0.6299, 0.6837, 0.6323, 0.6384, 0.6672, 0.8383, 0.6829, 0.6963, 0.5946, 0.6746]\n",
      "0+\":\"+[1.0, 0.838, 0.8525, 0.7509, 0.8281, 0.8516, 0.9094, 0.8556, 0.8622, 0.6003, 0.7765, 0.616, 0.6301, 0.5248, 0.6078, 0.6299, 0.6837, 0.6323, 0.6384, 0.6672, 0.8383, 0.6829, 0.6963, 0.5946, 0.6746]\n",
      "0+\":\"+[1.0, 0.838, 0.8525, 0.7509, 0.8281, 0.8516, 0.9094, 0.8556, 0.8622, 0.6003, 0.7765, 0.616, 0.6301, 0.5248, 0.6078, 0.6299, 0.6837, 0.6323, 0.6384, 0.6672, 0.8383, 0.6829, 0.6963, 0.5946, 0.6746]\n",
      "0+\":\"+[1.0, 0.838, 0.8525, 0.7509, 0.8281, 0.8516, 0.9094, 0.8556, 0.8622, 0.6003, 0.7765, 0.616, 0.6301, 0.5248, 0.6078, 0.6299, 0.6837, 0.6323, 0.6384, 0.6672, 0.8383, 0.6829, 0.6963, 0.5946, 0.6746]\n",
      "0+\":\"+[1.0, 0.838, 0.8525, 0.7509, 0.8281, 0.8516, 0.9094, 0.8556, 0.8622, 0.6003, 0.7765, 0.616, 0.6301, 0.5248, 0.6078, 0.6299, 0.6837, 0.6323, 0.6384, 0.6672, 0.8383, 0.6829, 0.6963, 0.5946, 0.6746]\n",
      "0+\":\"+[1.0, 0.838, 0.8525, 0.7509, 0.8281, 0.8516, 0.9094, 0.8556, 0.8622, 0.6003, 0.7765, 0.616, 0.6301, 0.5248, 0.6078, 0.6299, 0.6837, 0.6323, 0.6384, 0.6672, 0.8383, 0.6829, 0.6963, 0.5946, 0.6746]\n",
      "0+\":\"+[1.0, 0.838, 0.8525, 0.7509, 0.8281, 0.8516, 0.9094, 0.8556, 0.8622, 0.6003, 0.7765, 0.616, 0.6301, 0.5248, 0.6078, 0.6299, 0.6837, 0.6323, 0.6384, 0.6672, 0.8383, 0.6829, 0.6963, 0.5946, 0.6746]\n",
      "0+\":\"+[1.0, 0.838, 0.8525, 0.7509, 0.8281, 0.8516, 0.9094, 0.8556, 0.8622, 0.6003, 0.7765, 0.616, 0.6301, 0.5248, 0.6078, 0.6299, 0.6837, 0.6323, 0.6384, 0.6672, 0.8383, 0.6829, 0.6963, 0.5946, 0.6746]\n",
      "0+\":\"+[1.0, 0.838, 0.8525, 0.7509, 0.8281, 0.8516, 0.9094, 0.8556, 0.8622, 0.6003, 0.7765, 0.616, 0.6301, 0.5248, 0.6078, 0.6299, 0.6837, 0.6323, 0.6384, 0.6672, 0.8383, 0.6829, 0.6963, 0.5946, 0.6746]\n",
      "0+\":\"+[1.0, 0.838, 0.8525, 0.7509, 0.8281, 0.8516, 0.9094, 0.8556, 0.8622, 0.6003, 0.7765, 0.616, 0.6301, 0.5248, 0.6078, 0.6299, 0.6837, 0.6323, 0.6384, 0.6672, 0.8383, 0.6829, 0.6963, 0.5946, 0.6746]\n",
      "0+\":\"+[1.0, 0.838, 0.8525, 0.7509, 0.8281, 0.8516, 0.9094, 0.8556, 0.8622, 0.6003, 0.7765, 0.616, 0.6301, 0.5248, 0.6078, 0.6299, 0.6837, 0.6323, 0.6384, 0.6672, 0.8383, 0.6829, 0.6963, 0.5946, 0.6746]\n",
      "0+\":\"+[1.0, 0.838, 0.8525, 0.7509, 0.8281, 0.8516, 0.9094, 0.8556, 0.8622, 0.6003, 0.7765, 0.616, 0.6301, 0.5248, 0.6078, 0.6299, 0.6837, 0.6323, 0.6384, 0.6672, 0.8383, 0.6829, 0.6963, 0.5946, 0.6746]\n",
      "0+\":\"+[1.0, 0.838, 0.8525, 0.7509, 0.8281, 0.8516, 0.9094, 0.8556, 0.8622, 0.6003, 0.7765, 0.616, 0.6301, 0.5248, 0.6078, 0.6299, 0.6837, 0.6323, 0.6384, 0.6672, 0.8383, 0.6829, 0.6963, 0.5946, 0.6746]\n",
      "0+\":\"+[1.0, 0.838, 0.8525, 0.7509, 0.8281, 0.8516, 0.9094, 0.8556, 0.8622, 0.6003, 0.7765, 0.616, 0.6301, 0.5248, 0.6078, 0.6299, 0.6837, 0.6323, 0.6384, 0.6672, 0.8383, 0.6829, 0.6963, 0.5946, 0.6746]\n",
      "0+\":\"+[1.0, 0.838, 0.8525, 0.7509, 0.8281, 0.8516, 0.9094, 0.8556, 0.8622, 0.6003, 0.7765, 0.616, 0.6301, 0.5248, 0.6078, 0.6299, 0.6837, 0.6323, 0.6384, 0.6672, 0.8383, 0.6829, 0.6963, 0.5946, 0.6746]\n",
      "0+\":\"+[1.0, 0.838, 0.8525, 0.7509, 0.8281, 0.8516, 0.9094, 0.8556, 0.8622, 0.6003, 0.7765, 0.616, 0.6301, 0.5248, 0.6078, 0.6299, 0.6837, 0.6323, 0.6384, 0.6672, 0.8383, 0.6829, 0.6963, 0.5946, 0.6746]\n",
      "0+\":\"+[1.0, 0.838, 0.8525, 0.7509, 0.8281, 0.8516, 0.9094, 0.8556, 0.8622, 0.6003, 0.7765, 0.616, 0.6301, 0.5248, 0.6078, 0.6299, 0.6837, 0.6323, 0.6384, 0.6672, 0.8383, 0.6829, 0.6963, 0.5946, 0.6746]\n",
      "0+\":\"+[1.0, 0.838, 0.8525, 0.7509, 0.8281, 0.8516, 0.9094, 0.8556, 0.8622, 0.6003, 0.7765, 0.616, 0.6301, 0.5248, 0.6078, 0.6299, 0.6837, 0.6323, 0.6384, 0.6672, 0.8383, 0.6829, 0.6963, 0.5946, 0.6746]\n",
      "0+\":\"+[1.0, 0.838, 0.8525, 0.7509, 0.8281, 0.8516, 0.9094, 0.8556, 0.8622, 0.6003, 0.7765, 0.616, 0.6301, 0.5248, 0.6078, 0.6299, 0.6837, 0.6323, 0.6384, 0.6672, 0.8383, 0.6829, 0.6963, 0.5946, 0.6746]\n",
      "0+\":\"+[1.0, 0.838, 0.8525, 0.7509, 0.8281, 0.8516, 0.9094, 0.8556, 0.8622, 0.6003, 0.7765, 0.616, 0.6301, 0.5248, 0.6078, 0.6299, 0.6837, 0.6323, 0.6384, 0.6672, 0.8383, 0.6829, 0.6963, 0.5946, 0.6746]\n",
      "0+\":\"+[1.0, 0.838, 0.8525, 0.7509, 0.8281, 0.8516, 0.9094, 0.8556, 0.8622, 0.6003, 0.7765, 0.616, 0.6301, 0.5248, 0.6078, 0.6299, 0.6837, 0.6323, 0.6384, 0.6672, 0.8383, 0.6829, 0.6963, 0.5946, 0.6746]\n",
      "0+\":\"+[1.0, 0.838, 0.8525, 0.7509, 0.8281, 0.8516, 0.9094, 0.8556, 0.8622, 0.6003, 0.7765, 0.616, 0.6301, 0.5248, 0.6078, 0.6299, 0.6837, 0.6323, 0.6384, 0.6672, 0.8383, 0.6829, 0.6963, 0.5946, 0.6746]\n",
      "0+\":\"+[1.0, 0.838, 0.8525, 0.7509, 0.8281, 0.8516, 0.9094, 0.8556, 0.8622, 0.6003, 0.7765, 0.616, 0.6301, 0.5248, 0.6078, 0.6299, 0.6837, 0.6323, 0.6384, 0.6672, 0.8383, 0.6829, 0.6963, 0.5946, 0.6746]\n",
      "0+\":\"+[1.0, 0.838, 0.8525, 0.7509, 0.8281, 0.8516, 0.9094, 0.8556, 0.8622, 0.6003, 0.7765, 0.616, 0.6301, 0.5248, 0.6078, 0.6299, 0.6837, 0.6323, 0.6384, 0.6672, 0.8383, 0.6829, 0.6963, 0.5946, 0.6746]\n",
      "0+\":\"+[1.0, 0.838, 0.8525, 0.7509, 0.8281, 0.8516, 0.9094, 0.8556, 0.8622, 0.6003, 0.7765, 0.616, 0.6301, 0.5248, 0.6078, 0.6299, 0.6837, 0.6323, 0.6384, 0.6672, 0.8383, 0.6829, 0.6963, 0.5946, 0.6746]\n",
      "0+\":\"+[1.0, 0.838, 0.8525, 0.7509, 0.8281, 0.8516, 0.9094, 0.8556, 0.8622, 0.6003, 0.7765, 0.616, 0.6301, 0.5248, 0.6078, 0.6299, 0.6837, 0.6323, 0.6384, 0.6672, 0.8383, 0.6829, 0.6963, 0.5946, 0.6746]\n",
      "0+\":\"+[1.0, 0.838, 0.8525, 0.7509, 0.8281, 0.8516, 0.9094, 0.8556, 0.8622, 0.6003, 0.7765, 0.616, 0.6301, 0.5248, 0.6078, 0.6299, 0.6837, 0.6323, 0.6384, 0.6672, 0.8383, 0.6829, 0.6963, 0.5946, 0.6746]\n",
      "0+\":\"+[1.0, 0.838, 0.8525, 0.7509, 0.8281, 0.8516, 0.9094, 0.8556, 0.8622, 0.6003, 0.7765, 0.616, 0.6301, 0.5248, 0.6078, 0.6299, 0.6837, 0.6323, 0.6384, 0.6672, 0.8383, 0.6829, 0.6963, 0.5946, 0.6746]\n",
      "0+\":\"+[1.0, 0.838, 0.8525, 0.7509, 0.8281, 0.8516, 0.9094, 0.8556, 0.8622, 0.6003, 0.7765, 0.616, 0.6301, 0.5248, 0.6078, 0.6299, 0.6837, 0.6323, 0.6384, 0.6672, 0.8383, 0.6829, 0.6963, 0.5946, 0.6746]\n",
      "0+\":\"+[1.0, 0.838, 0.8525, 0.7509, 0.8281, 0.8516, 0.9094, 0.8556, 0.8622, 0.6003, 0.7765, 0.616, 0.6301, 0.5248, 0.6078, 0.6299, 0.6837, 0.6323, 0.6384, 0.6672, 0.8383, 0.6829, 0.6963, 0.5946, 0.6746]\n",
      "0+\":\"+[1.0, 0.838, 0.8525, 0.7509, 0.8281, 0.8516, 0.9094, 0.8556, 0.8622, 0.6003, 0.7765, 0.616, 0.6301, 0.5248, 0.6078, 0.6299, 0.6837, 0.6323, 0.6384, 0.6672, 0.8383, 0.6829, 0.6963, 0.5946, 0.6746]\n",
      "0+\":\"+[1.0, 0.838, 0.8525, 0.7509, 0.8281, 0.8516, 0.9094, 0.8556, 0.8622, 0.6003, 0.7765, 0.616, 0.6301, 0.5248, 0.6078, 0.6299, 0.6837, 0.6323, 0.6384, 0.6672, 0.8383, 0.6829, 0.6963, 0.5946, 0.6746]\n",
      "0+\":\"+[1.0, 0.838, 0.8525, 0.7509, 0.8281, 0.8516, 0.9094, 0.8556, 0.8622, 0.6003, 0.7765, 0.616, 0.6301, 0.5248, 0.6078, 0.6299, 0.6837, 0.6323, 0.6384, 0.6672, 0.8383, 0.6829, 0.6963, 0.5946, 0.6746]\n",
      "0+\":\"+[1.0, 0.838, 0.8525, 0.7509, 0.8281, 0.8516, 0.9094, 0.8556, 0.8622, 0.6003, 0.7765, 0.616, 0.6301, 0.5248, 0.6078, 0.6299, 0.6837, 0.6323, 0.6384, 0.6672, 0.8383, 0.6829, 0.6963, 0.5946, 0.6746]\n",
      "0+\":\"+[1.0, 0.838, 0.8525, 0.7509, 0.8281, 0.8516, 0.9094, 0.8556, 0.8622, 0.6003, 0.7765, 0.616, 0.6301, 0.5248, 0.6078, 0.6299, 0.6837, 0.6323, 0.6384, 0.6672, 0.8383, 0.6829, 0.6963, 0.5946, 0.6746]\n",
      "0+\":\"+[1.0, 0.838, 0.8525, 0.7509, 0.8281, 0.8516, 0.9094, 0.8556, 0.8622, 0.6003, 0.7765, 0.616, 0.6301, 0.5248, 0.6078, 0.6299, 0.6837, 0.6323, 0.6384, 0.6672, 0.8383, 0.6829, 0.6963, 0.5946, 0.6746]\n",
      "0+\":\"+[1.0, 0.838, 0.8525, 0.7509, 0.8281, 0.8516, 0.9094, 0.8556, 0.8622, 0.6003, 0.7765, 0.616, 0.6301, 0.5248, 0.6078, 0.6299, 0.6837, 0.6323, 0.6384, 0.6672, 0.8383, 0.6829, 0.6963, 0.5946, 0.6746]\n",
      "0+\":\"+[1.0, 0.838, 0.8525, 0.7509, 0.8281, 0.8516, 0.9094, 0.8556, 0.8622, 0.6003, 0.7765, 0.616, 0.6301, 0.5248, 0.6078, 0.6299, 0.6837, 0.6323, 0.6384, 0.6672, 0.8383, 0.6829, 0.6963, 0.5946, 0.6746]\n",
      "0+\":\"+[1.0, 0.838, 0.8525, 0.7509, 0.8281, 0.8516, 0.9094, 0.8556, 0.8622, 0.6003, 0.7765, 0.616, 0.6301, 0.5248, 0.6078, 0.6299, 0.6837, 0.6323, 0.6384, 0.6672, 0.8383, 0.6829, 0.6963, 0.5946, 0.6746]\n",
      "0+\":\"+[1.0, 0.838, 0.8525, 0.7509, 0.8281, 0.8516, 0.9094, 0.8556, 0.8622, 0.6003, 0.7765, 0.616, 0.6301, 0.5248, 0.6078, 0.6299, 0.6837, 0.6323, 0.6384, 0.6672, 0.8383, 0.6829, 0.6963, 0.5946, 0.6746]\n",
      "0+\":\"+[1.0, 0.838, 0.8525, 0.7509, 0.8281, 0.8516, 0.9094, 0.8556, 0.8622, 0.6003, 0.7765, 0.616, 0.6301, 0.5248, 0.6078, 0.6299, 0.6837, 0.6323, 0.6384, 0.6672, 0.8383, 0.6829, 0.6963, 0.5946, 0.6746]\n",
      "0+\":\"+[1.0, 0.838, 0.8525, 0.7509, 0.8281, 0.8516, 0.9094, 0.8556, 0.8622, 0.6003, 0.7765, 0.616, 0.6301, 0.5248, 0.6078, 0.6299, 0.6837, 0.6323, 0.6384, 0.6672, 0.8383, 0.6829, 0.6963, 0.5946, 0.6746]\n",
      "0+\":\"+[1.0, 0.838, 0.8525, 0.7509, 0.8281, 0.8516, 0.9094, 0.8556, 0.8622, 0.6003, 0.7765, 0.616, 0.6301, 0.5248, 0.6078, 0.6299, 0.6837, 0.6323, 0.6384, 0.6672, 0.8383, 0.6829, 0.6963, 0.5946, 0.6746]\n",
      "0+\":\"+[1.0, 0.838, 0.8525, 0.7509, 0.8281, 0.8516, 0.9094, 0.8556, 0.8622, 0.6003, 0.7765, 0.616, 0.6301, 0.5248, 0.6078, 0.6299, 0.6837, 0.6323, 0.6384, 0.6672, 0.8383, 0.6829, 0.6963, 0.5946, 0.6746]\n",
      "0+\":\"+[1.0, 0.838, 0.8525, 0.7509, 0.8281, 0.8516, 0.9094, 0.8556, 0.8622, 0.6003, 0.7765, 0.616, 0.6301, 0.5248, 0.6078, 0.6299, 0.6837, 0.6323, 0.6384, 0.6672, 0.8383, 0.6829, 0.6963, 0.5946, 0.6746]\n",
      "0+\":\"+[1.0, 0.838, 0.8525, 0.7509, 0.8281, 0.8516, 0.9094, 0.8556, 0.8622, 0.6003, 0.7765, 0.616, 0.6301, 0.5248, 0.6078, 0.6299, 0.6837, 0.6323, 0.6384, 0.6672, 0.8383, 0.6829, 0.6963, 0.5946, 0.6746]\n",
      "0+\":\"+[1.0, 0.838, 0.8525, 0.7509, 0.8281, 0.8516, 0.9094, 0.8556, 0.8622, 0.6003, 0.7765, 0.616, 0.6301, 0.5248, 0.6078, 0.6299, 0.6837, 0.6323, 0.6384, 0.6672, 0.8383, 0.6829, 0.6963, 0.5946, 0.6746]\n",
      "0+\":\"+[1.0, 0.838, 0.8525, 0.7509, 0.8281, 0.8516, 0.9094, 0.8556, 0.8622, 0.6003, 0.7765, 0.616, 0.6301, 0.5248, 0.6078, 0.6299, 0.6837, 0.6323, 0.6384, 0.6672, 0.8383, 0.6829, 0.6963, 0.5946, 0.6746]\n",
      "0+\":\"+[1.0, 0.838, 0.8525, 0.7509, 0.8281, 0.8516, 0.9094, 0.8556, 0.8622, 0.6003, 0.7765, 0.616, 0.6301, 0.5248, 0.6078, 0.6299, 0.6837, 0.6323, 0.6384, 0.6672, 0.8383, 0.6829, 0.6963, 0.5946, 0.6746]\n",
      "0+\":\"+[1.0, 0.838, 0.8525, 0.7509, 0.8281, 0.8516, 0.9094, 0.8556, 0.8622, 0.6003, 0.7765, 0.616, 0.6301, 0.5248, 0.6078, 0.6299, 0.6837, 0.6323, 0.6384, 0.6672, 0.8383, 0.6829, 0.6963, 0.5946, 0.6746]\n",
      "0+\":\"+[1.0, 0.838, 0.8525, 0.7509, 0.8281, 0.8516, 0.9094, 0.8556, 0.8622, 0.6003, 0.7765, 0.616, 0.6301, 0.5248, 0.6078, 0.6299, 0.6837, 0.6323, 0.6384, 0.6672, 0.8383, 0.6829, 0.6963, 0.5946, 0.6746]\n",
      "0+\":\"+[1.0, 0.838, 0.8525, 0.7509, 0.8281, 0.8516, 0.9094, 0.8556, 0.8622, 0.6003, 0.7765, 0.616, 0.6301, 0.5248, 0.6078, 0.6299, 0.6837, 0.6323, 0.6384, 0.6672, 0.8383, 0.6829, 0.6963, 0.5946, 0.6746]\n",
      "0+\":\"+[1.0, 0.838, 0.8525, 0.7509, 0.8281, 0.8516, 0.9094, 0.8556, 0.8622, 0.6003, 0.7765, 0.616, 0.6301, 0.5248, 0.6078, 0.6299, 0.6837, 0.6323, 0.6384, 0.6672, 0.8383, 0.6829, 0.6963, 0.5946, 0.6746]\n",
      "0+\":\"+[1.0, 0.838, 0.8525, 0.7509, 0.8281, 0.8516, 0.9094, 0.8556, 0.8622, 0.6003, 0.7765, 0.616, 0.6301, 0.5248, 0.6078, 0.6299, 0.6837, 0.6323, 0.6384, 0.6672, 0.8383, 0.6829, 0.6963, 0.5946, 0.6746]\n",
      "0+\":\"+[1.0, 0.838, 0.8525, 0.7509, 0.8281, 0.8516, 0.9094, 0.8556, 0.8622, 0.6003, 0.7765, 0.616, 0.6301, 0.5248, 0.6078, 0.6299, 0.6837, 0.6323, 0.6384, 0.6672, 0.8383, 0.6829, 0.6963, 0.5946, 0.6746]\n",
      "0+\":\"+[1.0, 0.838, 0.8525, 0.7509, 0.8281, 0.8516, 0.9094, 0.8556, 0.8622, 0.6003, 0.7765, 0.616, 0.6301, 0.5248, 0.6078, 0.6299, 0.6837, 0.6323, 0.6384, 0.6672, 0.8383, 0.6829, 0.6963, 0.5946, 0.6746]\n",
      "0+\":\"+[1.0, 0.838, 0.8525, 0.7509, 0.8281, 0.8516, 0.9094, 0.8556, 0.8622, 0.6003, 0.7765, 0.616, 0.6301, 0.5248, 0.6078, 0.6299, 0.6837, 0.6323, 0.6384, 0.6672, 0.8383, 0.6829, 0.6963, 0.5946, 0.6746]\n",
      "0+\":\"+[1.0, 0.838, 0.8525, 0.7509, 0.8281, 0.8516, 0.9094, 0.8556, 0.8622, 0.6003, 0.7765, 0.616, 0.6301, 0.5248, 0.6078, 0.6299, 0.6837, 0.6323, 0.6384, 0.6672, 0.8383, 0.6829, 0.6963, 0.5946, 0.6746]\n"
     ]
    }
   ],
   "metadata": {}
  },
  {
   "cell_type": "code",
   "execution_count": null,
   "source": [],
   "outputs": [],
   "metadata": {}
  }
 ],
 "metadata": {
  "kernelspec": {
   "name": "python3",
   "display_name": "Python 3.9.6 64-bit"
  },
  "language_info": {
   "codemirror_mode": {
    "name": "ipython",
    "version": 3
   },
   "file_extension": ".py",
   "mimetype": "text/x-python",
   "name": "python",
   "nbconvert_exporter": "python",
   "pygments_lexer": "ipython3",
   "version": "3.9.6"
  },
  "interpreter": {
   "hash": "2262c5d7896c98569f32fa3d7e0f52a88b35fa468153a178ce25dd2728b08e51"
  }
 },
 "nbformat": 4,
 "nbformat_minor": 4
}